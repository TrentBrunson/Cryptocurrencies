{
 "metadata": {
  "language_info": {
   "codemirror_mode": {
    "name": "ipython",
    "version": 3
   },
   "file_extension": ".py",
   "mimetype": "text/x-python",
   "name": "python",
   "nbconvert_exporter": "python",
   "pygments_lexer": "ipython3",
   "version": "3.8.3-final"
  },
  "orig_nbformat": 2,
  "kernelspec": {
   "name": "Python 3.8.3 64-bit ('PythonData38': conda)",
   "display_name": "Python 3.8.3 64-bit ('PythonData38': conda)",
   "metadata": {
    "interpreter": {
     "hash": "63398a3aea4f388800488d7e54da50f6f6e29bf71dbccd9ca6f7da67dd872ff2"
    }
   }
  }
 },
 "nbformat": 4,
 "nbformat_minor": 2,
 "cells": [
  {
   "cell_type": "code",
   "execution_count": 54,
   "metadata": {},
   "outputs": [],
   "source": [
    "# Prepare the data for dimensions reduction with PCA and clustering using K-means.\n",
    "# Reduce data dimensions using PCA algorithms from sklearn.\n",
    "# Predict clusters using cryptocurrencies data using the K-means algorithm form sklearn.\n",
    "# Create some plots and data tables to present your results."
   ]
  },
  {
   "cell_type": "code",
   "execution_count": 55,
   "metadata": {},
   "outputs": [],
   "source": [
    "import pandas as pd\n",
    "from sklearn.preprocessing import StandardScaler\n",
    "from sklearn.decomposition import PCA\n",
    "from sklearn.cluster import AgglomerativeClustering\n",
    "import hvplot.pandas"
   ]
  },
  {
   "cell_type": "code",
   "execution_count": 56,
   "metadata": {},
   "outputs": [
    {
     "output_type": "execute_result",
     "data": {
      "text/plain": "            CoinName Algorithm  IsTrading ProofType  TotalCoinsMined  \\\n42           42 Coin    Scrypt       True   PoW/PoS     4.199995e+01   \n365          365Coin       X11       True   PoW/PoS              NaN   \n404          404Coin    Scrypt       True   PoW/PoS     1.055185e+09   \n611        SixEleven   SHA-256       True       PoW              NaN   \n808              808   SHA-256       True   PoW/PoS     0.000000e+00   \n...              ...       ...        ...       ...              ...   \nXBC      BitcoinPlus    Scrypt       True       PoS     1.283270e+05   \nDVTC      DivotyCoin    Scrypt      False   PoW/PoS     2.149121e+07   \nGIOT     Giotto Coin    Scrypt      False   PoW/PoS              NaN   \nOPSC  OpenSourceCoin   SHA-256      False   PoW/PoS              NaN   \nPUNK       SteamPunk       PoS      False       PoS              NaN   \n\n     TotalCoinSupply  \n42                42  \n365       2300000000  \n404        532000000  \n611           611000  \n808                0  \n...              ...  \nXBC          1000000  \nDVTC       100000000  \nGIOT       233100000  \nOPSC        21000000  \nPUNK        40000000  \n\n[1252 rows x 6 columns]",
      "text/html": "<div>\n<style scoped>\n    .dataframe tbody tr th:only-of-type {\n        vertical-align: middle;\n    }\n\n    .dataframe tbody tr th {\n        vertical-align: top;\n    }\n\n    .dataframe thead th {\n        text-align: right;\n    }\n</style>\n<table border=\"1\" class=\"dataframe\">\n  <thead>\n    <tr style=\"text-align: right;\">\n      <th></th>\n      <th>CoinName</th>\n      <th>Algorithm</th>\n      <th>IsTrading</th>\n      <th>ProofType</th>\n      <th>TotalCoinsMined</th>\n      <th>TotalCoinSupply</th>\n    </tr>\n  </thead>\n  <tbody>\n    <tr>\n      <th>42</th>\n      <td>42 Coin</td>\n      <td>Scrypt</td>\n      <td>True</td>\n      <td>PoW/PoS</td>\n      <td>4.199995e+01</td>\n      <td>42</td>\n    </tr>\n    <tr>\n      <th>365</th>\n      <td>365Coin</td>\n      <td>X11</td>\n      <td>True</td>\n      <td>PoW/PoS</td>\n      <td>NaN</td>\n      <td>2300000000</td>\n    </tr>\n    <tr>\n      <th>404</th>\n      <td>404Coin</td>\n      <td>Scrypt</td>\n      <td>True</td>\n      <td>PoW/PoS</td>\n      <td>1.055185e+09</td>\n      <td>532000000</td>\n    </tr>\n    <tr>\n      <th>611</th>\n      <td>SixEleven</td>\n      <td>SHA-256</td>\n      <td>True</td>\n      <td>PoW</td>\n      <td>NaN</td>\n      <td>611000</td>\n    </tr>\n    <tr>\n      <th>808</th>\n      <td>808</td>\n      <td>SHA-256</td>\n      <td>True</td>\n      <td>PoW/PoS</td>\n      <td>0.000000e+00</td>\n      <td>0</td>\n    </tr>\n    <tr>\n      <th>...</th>\n      <td>...</td>\n      <td>...</td>\n      <td>...</td>\n      <td>...</td>\n      <td>...</td>\n      <td>...</td>\n    </tr>\n    <tr>\n      <th>XBC</th>\n      <td>BitcoinPlus</td>\n      <td>Scrypt</td>\n      <td>True</td>\n      <td>PoS</td>\n      <td>1.283270e+05</td>\n      <td>1000000</td>\n    </tr>\n    <tr>\n      <th>DVTC</th>\n      <td>DivotyCoin</td>\n      <td>Scrypt</td>\n      <td>False</td>\n      <td>PoW/PoS</td>\n      <td>2.149121e+07</td>\n      <td>100000000</td>\n    </tr>\n    <tr>\n      <th>GIOT</th>\n      <td>Giotto Coin</td>\n      <td>Scrypt</td>\n      <td>False</td>\n      <td>PoW/PoS</td>\n      <td>NaN</td>\n      <td>233100000</td>\n    </tr>\n    <tr>\n      <th>OPSC</th>\n      <td>OpenSourceCoin</td>\n      <td>SHA-256</td>\n      <td>False</td>\n      <td>PoW/PoS</td>\n      <td>NaN</td>\n      <td>21000000</td>\n    </tr>\n    <tr>\n      <th>PUNK</th>\n      <td>SteamPunk</td>\n      <td>PoS</td>\n      <td>False</td>\n      <td>PoS</td>\n      <td>NaN</td>\n      <td>40000000</td>\n    </tr>\n  </tbody>\n</table>\n<p>1252 rows × 6 columns</p>\n</div>"
     },
     "metadata": {},
     "execution_count": 56
    }
   ],
   "source": [
    "file_path = \"crypto_data.csv\"\n",
    "crypto_df = pd.read_csv(file_path, index_col=0)\n",
    "crypto_df"
   ]
  },
  {
   "cell_type": "code",
   "execution_count": 57,
   "metadata": {},
   "outputs": [
    {
     "output_type": "execute_result",
     "data": {
      "text/plain": "(1252, 6)"
     },
     "metadata": {},
     "execution_count": 57
    }
   ],
   "source": [
    "# see size of original data set\n",
    "crypto_df.shape"
   ]
  },
  {
   "cell_type": "code",
   "execution_count": 58,
   "metadata": {},
   "outputs": [
    {
     "output_type": "execute_result",
     "data": {
      "text/plain": "CoinName            object\nAlgorithm           object\nIsTrading             bool\nProofType           object\nTotalCoinsMined    float64\nTotalCoinSupply     object\ndtype: object"
     },
     "metadata": {},
     "execution_count": 58
    }
   ],
   "source": [
    "crypto_df.dtypes"
   ]
  },
  {
   "cell_type": "code",
   "execution_count": 59,
   "metadata": {
    "tags": []
   },
   "outputs": [
    {
     "output_type": "stream",
     "name": "stdout",
     "text": "Column &quot;CoinName&quot; has 0 null values.\nColumn &quot;Algorithm&quot; has 0 null values.\nColumn &quot;IsTrading&quot; has 0 null values.\nColumn &quot;ProofType&quot; has 0 null values.\nColumn &quot;TotalCoinsMined&quot; has 508 null values.\nColumn &quot;TotalCoinSupply&quot; has 0 null values.\n"
    }
   ],
   "source": [
    "# find null values\n",
    "for column in crypto_df.columns:\n",
    "    print(f\"Column \\\"{column}\\\" has {crypto_df[column].isnull().sum()} null values.\")"
   ]
  },
  {
   "cell_type": "code",
   "execution_count": 60,
   "metadata": {},
   "outputs": [
    {
     "output_type": "execute_result",
     "data": {
      "text/plain": "{&#39;CoinName&#39;:             CoinName\n 0            42 Coin\n 1            365Coin\n 2            404Coin\n 3          SixEleven\n 4                808\n ...              ...\n 1240     BitcoinPlus\n 1241      DivotyCoin\n 1242     Giotto Coin\n 1243  OpenSourceCoin\n 1244       SteamPunk\n \n [1245 rows x 1 columns],\n &#39;Algorithm&#39;:           Algorithm\n 0            Scrypt\n 1               X11\n 2           SHA-256\n 3               X13\n 4            Ethash\n ..              ...\n 90  Equihash+Scrypt\n 91             PHI2\n 92      Avesta hash\n 93       Slatechain\n 94            TRC10\n \n [95 rows x 1 columns],\n &#39;IsTrading&#39;:    IsTrading\n 0       True\n 1      False,\n &#39;ProofType&#39;:                                 ProofType\n 0                                 PoW/PoS\n 1                                     PoW\n 2                                     PoS\n 3                                     PoC\n 4                             PoS/PoW/PoT\n 5                                    PoST\n 6                                 PoB/PoS\n 7                                 PoS/PoB\n 8                                     PoA\n 9                                PoW/nPoS\n 10                            PoW/PoS/PoC\n 11                                PoS/PoW\n 12                               dPoW/PoW\n 13                              DPoS/LPoS\n 14                                   DPoS\n 15                                PoW/PoW\n 16                                   TPoS\n 17                               PoW/PoS \n 18                                PoW/PoS\n 19                     Proof of Authority\n 20                         Proof of Stake\n 21                            PoW and PoS\n 22                                   POBh\n 23                             PoW + Hive\n 24  Limited Confidence Proof-of-Activity \n 25                                   HPoW\n 26                   Zero-Knowledge Proof\n 27                                   DPOS\n 28                                    Pos\n 29                               POS / MN\n 30                                   LPoS\n 31                         Proof of Trust\n 32                                   DPoC\n 33                               PoW/DPoW\n 34                                   DPoW\n 35                               PoS/LPoS\n 36                                   DPoI,\n &#39;TotalCoinsMined&#39;:      TotalCoinsMined\n 0       4.199995e+01\n 1                NaN\n 2       1.055185e+09\n 3       0.000000e+00\n 4       2.927942e+10\n ..               ...\n 560     1.493105e+07\n 561     9.802226e+08\n 562     7.296538e+06\n 563     1.283270e+05\n 564     2.149121e+07\n \n [565 rows x 1 columns],\n &#39;TotalCoinSupply&#39;:     TotalCoinSupply\n 0                42\n 1        2300000000\n 2         532000000\n 3            611000\n 4                 0\n ..              ...\n 541        77303932\n 542          400000\n 543     42750000000\n 544      1400222610\n 545       233100000\n \n [546 rows x 1 columns]}"
     },
     "metadata": {},
     "execution_count": 60
    }
   ],
   "source": [
    "# see what unique values are in columns for data cleansing\n",
    "df_dict = dict(zip([i for i in crypto_df.columns] , [pd.DataFrame(crypto_df[i].unique(),columns=[i]) for i in crypto_df.columns]))\n",
    "df_dict"
   ]
  },
  {
   "cell_type": "code",
   "execution_count": 61,
   "metadata": {},
   "outputs": [],
   "source": [
    "# Remove all cryptocurrencies that aren’t trading.\n",
    "crypto_df.drop(crypto_df[crypto_df['IsTrading'] == False].index, inplace= True)\n",
    "\n",
    "# Remove all cryptocurrencies that don’t have an algorithm defined.\n",
    "crypto_df.dropna(subset=['Algorithm'])\n",
    "\n",
    "# Remove the IsTrading column.\n",
    "crypto_df.drop(columns=['IsTrading'], inplace= True)\n",
    "\n",
    "# Remove all cryptocurrencies with at least one null value.\n",
    "crypto_df.dropna(inplace=True)\n",
    "\n",
    "# Remove all cryptocurrencies without coins mined.\n",
    "crypto_df = crypto_df[crypto_df['TotalCoinsMined'] > 0]\n",
    "\n",
    "# Store the names of all cryptocurrencies on a DataFramed named coins_name, and use the crypto_df.index as the index for this new DataFrame.\n",
    "coins_name = crypto_df[['CoinName']].copy()"
   ]
  },
  {
   "cell_type": "code",
   "execution_count": 62,
   "metadata": {},
   "outputs": [
    {
     "output_type": "execute_result",
     "data": {
      "text/plain": "         CoinName\n42        42 Coin\n404       404Coin\n1337    EliteCoin\nBTC       Bitcoin\nETH      Ethereum\n...           ...\nZEPH       ZEPHYR\nGAP       Gapcoin\nBDX        Beldex\nZEN       Horizen\nXBC   BitcoinPlus\n\n[532 rows x 1 columns]",
      "text/html": "<div>\n<style scoped>\n    .dataframe tbody tr th:only-of-type {\n        vertical-align: middle;\n    }\n\n    .dataframe tbody tr th {\n        vertical-align: top;\n    }\n\n    .dataframe thead th {\n        text-align: right;\n    }\n</style>\n<table border=\"1\" class=\"dataframe\">\n  <thead>\n    <tr style=\"text-align: right;\">\n      <th></th>\n      <th>CoinName</th>\n    </tr>\n  </thead>\n  <tbody>\n    <tr>\n      <th>42</th>\n      <td>42 Coin</td>\n    </tr>\n    <tr>\n      <th>404</th>\n      <td>404Coin</td>\n    </tr>\n    <tr>\n      <th>1337</th>\n      <td>EliteCoin</td>\n    </tr>\n    <tr>\n      <th>BTC</th>\n      <td>Bitcoin</td>\n    </tr>\n    <tr>\n      <th>ETH</th>\n      <td>Ethereum</td>\n    </tr>\n    <tr>\n      <th>...</th>\n      <td>...</td>\n    </tr>\n    <tr>\n      <th>ZEPH</th>\n      <td>ZEPHYR</td>\n    </tr>\n    <tr>\n      <th>GAP</th>\n      <td>Gapcoin</td>\n    </tr>\n    <tr>\n      <th>BDX</th>\n      <td>Beldex</td>\n    </tr>\n    <tr>\n      <th>ZEN</th>\n      <td>Horizen</td>\n    </tr>\n    <tr>\n      <th>XBC</th>\n      <td>BitcoinPlus</td>\n    </tr>\n  </tbody>\n</table>\n<p>532 rows × 1 columns</p>\n</div>"
     },
     "metadata": {},
     "execution_count": 62
    }
   ],
   "source": [
    "coins_name"
   ]
  },
  {
   "cell_type": "code",
   "execution_count": 63,
   "metadata": {},
   "outputs": [
    {
     "output_type": "execute_result",
     "data": {
      "text/plain": "(532, 5)"
     },
     "metadata": {},
     "execution_count": 63
    }
   ],
   "source": [
    "crypto_df.shape"
   ]
  },
  {
   "cell_type": "code",
   "execution_count": 64,
   "metadata": {},
   "outputs": [
    {
     "output_type": "execute_result",
     "data": {
      "text/plain": "         CoinName    Algorithm ProofType  TotalCoinsMined TotalCoinSupply\n42        42 Coin       Scrypt   PoW/PoS     4.199995e+01              42\n404       404Coin       Scrypt   PoW/PoS     1.055185e+09       532000000\n1337    EliteCoin          X13   PoW/PoS     2.927942e+10    314159265359\nBTC       Bitcoin      SHA-256       PoW     1.792718e+07        21000000\nETH      Ethereum       Ethash       PoW     1.076842e+08               0\n...           ...          ...       ...              ...             ...\nZEPH       ZEPHYR      SHA-256      DPoS     2.000000e+09      2000000000\nGAP       Gapcoin       Scrypt   PoW/PoS     1.493105e+07       250000000\nBDX        Beldex  CryptoNight       PoW     9.802226e+08      1400222610\nZEN       Horizen     Equihash       PoW     7.296538e+06        21000000\nXBC   BitcoinPlus       Scrypt       PoS     1.283270e+05         1000000\n\n[532 rows x 5 columns]",
      "text/html": "<div>\n<style scoped>\n    .dataframe tbody tr th:only-of-type {\n        vertical-align: middle;\n    }\n\n    .dataframe tbody tr th {\n        vertical-align: top;\n    }\n\n    .dataframe thead th {\n        text-align: right;\n    }\n</style>\n<table border=\"1\" class=\"dataframe\">\n  <thead>\n    <tr style=\"text-align: right;\">\n      <th></th>\n      <th>CoinName</th>\n      <th>Algorithm</th>\n      <th>ProofType</th>\n      <th>TotalCoinsMined</th>\n      <th>TotalCoinSupply</th>\n    </tr>\n  </thead>\n  <tbody>\n    <tr>\n      <th>42</th>\n      <td>42 Coin</td>\n      <td>Scrypt</td>\n      <td>PoW/PoS</td>\n      <td>4.199995e+01</td>\n      <td>42</td>\n    </tr>\n    <tr>\n      <th>404</th>\n      <td>404Coin</td>\n      <td>Scrypt</td>\n      <td>PoW/PoS</td>\n      <td>1.055185e+09</td>\n      <td>532000000</td>\n    </tr>\n    <tr>\n      <th>1337</th>\n      <td>EliteCoin</td>\n      <td>X13</td>\n      <td>PoW/PoS</td>\n      <td>2.927942e+10</td>\n      <td>314159265359</td>\n    </tr>\n    <tr>\n      <th>BTC</th>\n      <td>Bitcoin</td>\n      <td>SHA-256</td>\n      <td>PoW</td>\n      <td>1.792718e+07</td>\n      <td>21000000</td>\n    </tr>\n    <tr>\n      <th>ETH</th>\n      <td>Ethereum</td>\n      <td>Ethash</td>\n      <td>PoW</td>\n      <td>1.076842e+08</td>\n      <td>0</td>\n    </tr>\n    <tr>\n      <th>...</th>\n      <td>...</td>\n      <td>...</td>\n      <td>...</td>\n      <td>...</td>\n      <td>...</td>\n    </tr>\n    <tr>\n      <th>ZEPH</th>\n      <td>ZEPHYR</td>\n      <td>SHA-256</td>\n      <td>DPoS</td>\n      <td>2.000000e+09</td>\n      <td>2000000000</td>\n    </tr>\n    <tr>\n      <th>GAP</th>\n      <td>Gapcoin</td>\n      <td>Scrypt</td>\n      <td>PoW/PoS</td>\n      <td>1.493105e+07</td>\n      <td>250000000</td>\n    </tr>\n    <tr>\n      <th>BDX</th>\n      <td>Beldex</td>\n      <td>CryptoNight</td>\n      <td>PoW</td>\n      <td>9.802226e+08</td>\n      <td>1400222610</td>\n    </tr>\n    <tr>\n      <th>ZEN</th>\n      <td>Horizen</td>\n      <td>Equihash</td>\n      <td>PoW</td>\n      <td>7.296538e+06</td>\n      <td>21000000</td>\n    </tr>\n    <tr>\n      <th>XBC</th>\n      <td>BitcoinPlus</td>\n      <td>Scrypt</td>\n      <td>PoS</td>\n      <td>1.283270e+05</td>\n      <td>1000000</td>\n    </tr>\n  </tbody>\n</table>\n<p>532 rows × 5 columns</p>\n</div>"
     },
     "metadata": {},
     "execution_count": 64
    }
   ],
   "source": [
    "crypto_df"
   ]
  },
  {
   "cell_type": "code",
   "execution_count": 65,
   "metadata": {
    "tags": []
   },
   "outputs": [
    {
     "output_type": "stream",
     "name": "stdout",
     "text": "Nulls: \nCoinName           0\nAlgorithm          0\nProofType          0\nTotalCoinsMined    0\nTotalCoinSupply    0\ndtype: int64\n\nShape: (532, 5)\nCoinName            object\nAlgorithm           object\nProofType           object\nTotalCoinsMined    float64\nTotalCoinSupply     object\ndtype: object\n"
    }
   ],
   "source": [
    "a = crypto_df.isnull().sum()\n",
    "print(f'Nulls: \\n{a}\\n\\nShape: {crypto_df.shape}\\n{crypto_df.dtypes}')"
   ]
  },
  {
   "cell_type": "code",
   "execution_count": 66,
   "metadata": {},
   "outputs": [
    {
     "output_type": "execute_result",
     "data": {
      "text/plain": "         CoinName\n42        42 Coin\n404       404Coin\n1337    EliteCoin\nBTC       Bitcoin\nETH      Ethereum\n...           ...\nZEPH       ZEPHYR\nGAP       Gapcoin\nBDX        Beldex\nZEN       Horizen\nXBC   BitcoinPlus\n\n[532 rows x 1 columns]",
      "text/html": "<div>\n<style scoped>\n    .dataframe tbody tr th:only-of-type {\n        vertical-align: middle;\n    }\n\n    .dataframe tbody tr th {\n        vertical-align: top;\n    }\n\n    .dataframe thead th {\n        text-align: right;\n    }\n</style>\n<table border=\"1\" class=\"dataframe\">\n  <thead>\n    <tr style=\"text-align: right;\">\n      <th></th>\n      <th>CoinName</th>\n    </tr>\n  </thead>\n  <tbody>\n    <tr>\n      <th>42</th>\n      <td>42 Coin</td>\n    </tr>\n    <tr>\n      <th>404</th>\n      <td>404Coin</td>\n    </tr>\n    <tr>\n      <th>1337</th>\n      <td>EliteCoin</td>\n    </tr>\n    <tr>\n      <th>BTC</th>\n      <td>Bitcoin</td>\n    </tr>\n    <tr>\n      <th>ETH</th>\n      <td>Ethereum</td>\n    </tr>\n    <tr>\n      <th>...</th>\n      <td>...</td>\n    </tr>\n    <tr>\n      <th>ZEPH</th>\n      <td>ZEPHYR</td>\n    </tr>\n    <tr>\n      <th>GAP</th>\n      <td>Gapcoin</td>\n    </tr>\n    <tr>\n      <th>BDX</th>\n      <td>Beldex</td>\n    </tr>\n    <tr>\n      <th>ZEN</th>\n      <td>Horizen</td>\n    </tr>\n    <tr>\n      <th>XBC</th>\n      <td>BitcoinPlus</td>\n    </tr>\n  </tbody>\n</table>\n<p>532 rows × 1 columns</p>\n</div>"
     },
     "metadata": {},
     "execution_count": 66
    }
   ],
   "source": [
    "# test difference\n",
    "coins_name2 = pd.DataFrame(crypto_df['CoinName'], index=crypto_df.index)\n",
    "coins_name2\n",
    "# identical result to copy()"
   ]
  },
  {
   "cell_type": "code",
   "execution_count": 67,
   "metadata": {},
   "outputs": [],
   "source": [
    "# Remove the CoinName column from crypto_df to set up for unsupervised ML. (non numeric value)\n",
    "crypto_df.drop(columns='CoinName', inplace=True)\n",
    "crypto_df\n",
    "# Create dummies variables for all of the text features, and store the resulting data on a DataFrame named X.\n",
    "crypto_df['TotalCoinSupply'] = crypto_df['TotalCoinSupply'].apply(float)\n",
    "X = pd.get_dummies(crypto_df, columns['Algorithm', 'ProofType'])"
   ]
  },
  {
   "cell_type": "code",
   "execution_count": 68,
   "metadata": {},
   "outputs": [
    {
     "output_type": "execute_result",
     "data": {
      "text/plain": "Algorithm           object\nProofType           object\nTotalCoinsMined    float64\nTotalCoinSupply    float64\ndtype: object"
     },
     "metadata": {},
     "execution_count": 68
    }
   ],
   "source": [
    "crypto_df.dtypes"
   ]
  },
  {
   "cell_type": "code",
   "execution_count": null,
   "metadata": {},
   "outputs": [],
   "source": []
  }
 ]
}